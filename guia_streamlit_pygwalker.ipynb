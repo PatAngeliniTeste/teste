## Requisitos e Setup

- Python 3.9+
- Bibliotecas: `streamlit`, `pandas`, `pygwalker`, `pyarrow`, `openpyxl`, `chardet`, `numpy`

Dica: prefira um ambiente virtual. As instalações podem ser feitas via `pip install -r requirements.txt` conforme o projeto do app.# Guia Didático: Streamlit + pandas + Pygwalker

Este notebook explica, passo a passo, um aplicativo robusto de exploração de dados com Streamlit, pandas e Pygwalker, destacando decisões e boas práticas para ensino.## Objetivos

- Compreender a arquitetura de um app de exploração de dados com Streamlit.
- Ver como `pandas` é usado para leitura, limpeza e perfilamento rápido.
- Integrar Pygwalker para exploração visual sem código de gráficos.
- Adotar práticas robustas: detecção de encoding, inferência de tipos, tratamento de ausentes, cache.# Guia Didático: Streamlit + pandas + Pygwalker

Este notebook explica, passo a passo, um aplicativo robusto de exploração de dados construído com Streamlit, pandas e Pygwalker. A ideia é que você entenda cada trecho do código, suas decisões de design e como adaptar para sua aula/projeto.