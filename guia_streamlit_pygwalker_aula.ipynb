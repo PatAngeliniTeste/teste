## Objetivos

- Entender a arquitetura do app e suas decisões de design.
- Aprender utilitários de leitura, limpeza e perfilamento com pandas.
- Integrar Pygwalker para exploração visual sem código de gráficos.
- Aplicar práticas robustas: encoding, tipos, ausentes, cache.# Guia Didático: Streamlit + pandas + Pygwalker

Este notebook explica, passo a passo, um aplicativo robusto de exploração de dados com Streamlit, pandas e Pygwalker, destacando decisões e boas práticas para ensino.